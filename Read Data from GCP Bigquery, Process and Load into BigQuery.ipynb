{
 "cells": [
  {
   "cell_type": "code",
   "execution_count": 1,
   "id": "27d54a0b",
   "metadata": {},
   "outputs": [
    {
     "ename": "ModuleNotFoundError",
     "evalue": "No module named 'google'",
     "output_type": "error",
     "traceback": [
      "\u001b[1;31m---------------------------------------------------------------------------\u001b[0m",
      "\u001b[1;31mModuleNotFoundError\u001b[0m                       Traceback (most recent call last)",
      "Cell \u001b[1;32mIn[1], line 3\u001b[0m\n\u001b[0;32m      1\u001b[0m \u001b[38;5;28;01mimport\u001b[39;00m \u001b[38;5;21;01mos\u001b[39;00m\n\u001b[0;32m      2\u001b[0m \u001b[38;5;28;01mimport\u001b[39;00m \u001b[38;5;21;01margparse\u001b[39;00m\n\u001b[1;32m----> 3\u001b[0m \u001b[38;5;28;01mfrom\u001b[39;00m \u001b[38;5;21;01mgoogle\u001b[39;00m\u001b[38;5;21;01m.\u001b[39;00m\u001b[38;5;21;01mcloud\u001b[39;00m \u001b[38;5;28;01mimport\u001b[39;00m bigquery\n\u001b[0;32m      4\u001b[0m \u001b[38;5;28;01mfrom\u001b[39;00m \u001b[38;5;21;01mpathlib\u001b[39;00m \u001b[38;5;28;01mimport\u001b[39;00m Path\n\u001b[0;32m      5\u001b[0m \u001b[38;5;28;01mfrom\u001b[39;00m \u001b[38;5;21;01mgoogle\u001b[39;00m\u001b[38;5;21;01m.\u001b[39;00m\u001b[38;5;21;01mcloud\u001b[39;00m \u001b[38;5;28;01mimport\u001b[39;00m storage\n",
      "\u001b[1;31mModuleNotFoundError\u001b[0m: No module named 'google'"
     ]
    }
   ],
   "source": [
    "import os\n",
    "import argparse\n",
    "from google.cloud import bigquery\n",
    "from pathlib import Path\n",
    "from google.cloud import storage\n",
    "from jinja2 import Template\n",
    "import urllib.parse"
   ]
  },
  {
   "cell_type": "code",
   "execution_count": null,
   "id": "fc54469b",
   "metadata": {},
   "outputs": [],
   "source": [
    "#Read .sql file and generate query\n",
    "def generate_query(input_file: Path, **replacements) -> str:\n",
    "    with open(input_file, \"r\") as f:\n",
    "        query_template = f.read()\n",
    "    return Template(query_template).render(**replacements)"
   ]
  },
  {
   "cell_type": "code",
   "execution_count": null,
   "id": "38c5a3ab",
   "metadata": {},
   "outputs": [],
   "source": [
    "#Execute sql query\n",
    "def execute_sql_query(sql_query, name, project_id):\n",
    "    client = bigquery.Client(project=project_id)\n",
    "    job_config = bigquery.QueryJobConfig()\n",
    "    job_config.use_legacy_sql = False\n",
    "    \n",
    "    try:\n",
    "        query_job = client.query(sql_query, job_config=job_config)\n",
    "        query_job.result()\n",
    "        print(f\"Query executed successfully for {name}\")\n",
    "    except:\n",
    "        print(f\"Error executing the query on{name}:{str(e)}\")"
   ]
  },
  {
   "cell_type": "code",
   "execution_count": null,
   "id": "41bec98d",
   "metadata": {},
   "outputs": [],
   "source": [
    "#Copy files from GCS bucket\n",
    "def copy_files_from_gcs_bucket(bucket_name, source_directory, destination_directory):\n",
    "    client = storage.Client()\n",
    "    bucket = client.get_bucket(bucket_name)\n",
    "    blobs = bucket.list_blobs(prefix=source_directory)\n",
    "    os.makedirs(destination_directory, exist_ok=True)\n",
    "    for blob in blobs:\n",
    "        if blob.name.endswith(\".sql\"):\n",
    "            source_blob_name = blob.name\n",
    "            destination_file_name = os.path.join(destination_directory, os.path.basename(source_blob_name))\n",
    "            blob.download_to_filename(destination_file_name)"
   ]
  },
  {
   "cell_type": "code",
   "execution_count": null,
   "id": "9a744749",
   "metadata": {},
   "outputs": [],
   "source": [
    "def list_sql_files_in_directory(directory_path):\n",
    "    sql_files = []\n",
    "    for filename in os.listdir(directory_path):\n",
    "        if filename.endswith(\".sql\"):\n",
    "            sql_files.append(filename)\n",
    "    return sql_files"
   ]
  },
  {
   "cell_type": "code",
   "execution_count": null,
   "id": "0807c8fc",
   "metadata": {},
   "outputs": [],
   "source": [
    "if __name__ == \"__main__\":\n",
    "    parser = argparse.ArumentParser(description='Process Args')\n",
    "    parser.add_argument('--arg_Input_GCP_Project', type=str, help='Input GCP Project')\n",
    "    parser.add_argument('--arg_Input_BQ_Dataset', type=str, help='Input BQ Dataset')\n",
    "    parser.add_argument('--arg_Output_BQ_Dataset', type=str, help='Output BQ Dataset')\n",
    "    parser.add_argument('--arg_querypath', type=str, help='Query Path')\n",
    "    \n",
    "    args = parser.parse_args()\n",
    "    \n",
    "    GCP_PROJECT_ID = args.arg_Input_GCP_Project\n",
    "    OUTPUT_DATASET_ID = args.arg_Output_BQ_Dataset\n",
    "    INPUT_DATASET_ID = args.arg_Input_BQ_Dataset\n",
    "    \n",
    "    gcs_query_folder = urllib.parse.unquote(args.arg_querypath)\n",
    "    path_parts = gcs_query_folder.split('/')\n",
    "    bucket_name = ''\n",
    "    object_name = ''\n",
    "    if len(path_parts) >= 4 and path_parts[0]=='gs:':\n",
    "        bucket_name = path_parts[2]\n",
    "        object_name = '/'.join(path_parts[3:])\n",
    "    \n",
    "    dest_dir = os.getcwd()+\"/queries\"\n",
    "    copy_files_from_gcs_bucket(bucket_name, object_name, dest_dir)\n",
    "    \n",
    "    if not os.path.exists(bucket_name, object_name, dest_dir):\n",
    "        print(\"SQL file does not exist\")\n",
    "    else:\n",
    "        sql_files = list_sql_files_in_directory(dest_dir)\n",
    "        \n",
    "        for sql in sql_files:\n",
    "            sql_name = dest_dir + \"/\" + sql\n",
    "            sql_query = generate_query(sql_name, \n",
    "                                      destination_dataset=f\"{GCP_PROJECT_ID}.{OUTPUT_DATASET_ID}\",\n",
    "                                      source_dataset=f\"{GCP_PROJECT_ID}.{INPUT_DATASET_ID}\")\n",
    "            execute_sql_query(sql_query=sql_query,\n",
    "                             name=Path(sql_name).stem,\n",
    "                             project_id = GCP_PROJECT_ID)"
   ]
  }
 ],
 "metadata": {
  "kernelspec": {
   "display_name": "Python 3 (ipykernel)",
   "language": "python",
   "name": "python3"
  },
  "language_info": {
   "codemirror_mode": {
    "name": "ipython",
    "version": 3
   },
   "file_extension": ".py",
   "mimetype": "text/x-python",
   "name": "python",
   "nbconvert_exporter": "python",
   "pygments_lexer": "ipython3",
   "version": "3.10.9"
  }
 },
 "nbformat": 4,
 "nbformat_minor": 5
}
